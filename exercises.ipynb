{
 "cells": [
  {
   "cell_type": "markdown",
   "metadata": {},
   "source": [
    "#1-Write a python program to detect integer numbers in a list of strings and cast them to int and print them"
   ]
  },
  {
   "cell_type": "code",
   "execution_count": 1,
   "metadata": {},
   "outputs": [
    {
     "data": {
      "text/plain": [
       "['11', '10']"
      ]
     },
     "execution_count": 1,
     "metadata": {},
     "output_type": "execute_result"
    }
   ],
   "source": [
    "#the isdigit() method returns true if all the charecters are digits , otherwise false.\n",
    "\n",
    "def int_bta(X):\n",
    "    return[i for i in X if i.isdigit()]\n",
    "int_bta(['11' , 'pooya' , '10' , '10.5'])"
   ]
  },
  {
   "cell_type": "markdown",
   "metadata": {},
   "source": [
    "#2-Write a Python program to print all even numbers from a given numbers list in the same order and stop the printing if any numbers that come after 237 in the sequence. Go to the editor Sample numbers list :"
   ]
  },
  {
   "cell_type": "code",
   "execution_count": 8,
   "metadata": {},
   "outputs": [
    {
     "name": "stdout",
     "output_type": "stream",
     "text": [
      "386\n"
     ]
    }
   ],
   "source": [
    "numbers = [386, 462, 47, 418, 907, 344, 236, 375, 823, 566, 597, 978, 328, 615, 953, 345, 399, 162, 758, 219, 918, 237, 412, 566, 826, 248, 866, 950, 626, 949, 687, 217, 815, 67, 104, 58, 512, 24, 892, 894, 767, 553, 81, 379, 843, 831, 445, 742, 717, 958,743, 527 ]\n",
    "for num in numbers:\n",
    "    if num % 2 == 0:\n",
    "         print(num)\n",
    "    if num>=237:\n",
    "        break\n",
    "              "
   ]
  },
  {
   "cell_type": "markdown",
   "metadata": {},
   "source": [
    "3-Write a Python program to sum of two given integers. However, if the sum is between 15 to 20 it will return 20."
   ]
  },
  {
   "cell_type": "code",
   "execution_count": 1,
   "metadata": {},
   "outputs": [
    {
     "name": "stdout",
     "output_type": "stream",
     "text": [
      "8+10 20\n",
      "200+100 300\n"
     ]
    }
   ],
   "source": [
    "def sum_py(a , b):\n",
    "    c=a+b\n",
    "    if (c>15 and c<20):\n",
    "        return 20\n",
    "    else:\n",
    "        return c\n",
    "print(\"8+10\" , sum_py(8,10))\n",
    "print(\"200+100\" , sum_py(200,100))"
   ]
  },
  {
   "cell_type": "markdown",
   "metadata": {},
   "source": [
    "4-Write a Python program to count the members of a list and print them"
   ]
  },
  {
   "cell_type": "code",
   "execution_count": 2,
   "metadata": {},
   "outputs": [
    {
     "name": "stdout",
     "output_type": "stream",
     "text": [
      "1    3\n",
      "5    1\n",
      "6    1\n",
      "s    2\n",
      "pooya    1\n"
     ]
    }
   ],
   "source": [
    "a = [1,5,6,1,1,'s','s','pooya']\n",
    "def list_counter(lst):\n",
    "    counts = [ [i,\"  \",lst.count(i)]for i in set(lst) ]\n",
    "    for i in counts:\n",
    "        print(i[0], i[1] ,i[2])\n",
    "list_counter(a)        \n",
    "        "
   ]
  },
  {
   "cell_type": "code",
   "execution_count": null,
   "metadata": {},
   "outputs": [],
   "source": []
  }
 ],
 "metadata": {
  "kernelspec": {
   "display_name": "Python 3",
   "language": "python",
   "name": "python3"
  },
  "language_info": {
   "codemirror_mode": {
    "name": "ipython",
    "version": 3
   },
   "file_extension": ".py",
   "mimetype": "text/x-python",
   "name": "python",
   "nbconvert_exporter": "python",
   "pygments_lexer": "ipython3",
   "version": "3.7.3"
  }
 },
 "nbformat": 4,
 "nbformat_minor": 2
}
